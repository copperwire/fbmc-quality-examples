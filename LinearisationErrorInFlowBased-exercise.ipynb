{
 "cells": [
  {
   "cell_type": "code",
   "execution_count": null,
   "metadata": {},
   "outputs": [],
   "source": [
    "%pip install fbmc-linearisation-analysis"
   ]
  },
  {
   "cell_type": "code",
   "execution_count": null,
   "metadata": {
    "collapsed": false
   },
   "outputs": [],
   "source": [
    "import pandas as pd\n",
    "import matplotlib.pyplot as plt \n",
    "pd.set_option('display.max_rows', 500)\n",
    "plt.rcParams[\"figure.figsize\"] = [12,6]\n",
    "\n",
    "import os\n",
    "os.environ['ENTSOE_API_KEY']  =  \"\" # insert your ENTSO-E API key here"
   ]
  },
  {
   "attachments": {},
   "cell_type": "markdown",
   "metadata": {
    "collapsed": false
   },
   "source": [
    "# FBMC - Linearisation Error in Flow Based "
   ]
  },
  {
   "attachments": {},
   "cell_type": "markdown",
   "metadata": {
    "collapsed": false
   },
   "source": [
    "In this example we will visualize the linearisation error in the flow based methodology by:\n",
    "- Fetching the required raw data (observed net postions (ENTSO-E) and flow based parameters (JAO)).\n",
    "- Calculating the linearised flow using flow based methedology.\n",
    "- Estimate the linearisation error by comparing observed flow with the linearised flow."
   ]
  },
  {
   "attachments": {},
   "cell_type": "markdown",
   "metadata": {
    "collapsed": false
   },
   "source": [
    "#### Start with selecting a time period to analyze"
   ]
  },
  {
   "cell_type": "code",
   "execution_count": null,
   "metadata": {
    "collapsed": false
   },
   "outputs": [],
   "source": [
    "from datetime import date\n",
    "start = date(2023, 4, 1)\n",
    "end = date(2023, 5, 1)"
   ]
  },
  {
   "attachments": {},
   "cell_type": "markdown",
   "metadata": {
    "collapsed": false
   },
   "source": [
    "# Retrieving Net Positions - Base case and observed"
   ]
  },
  {
   "attachments": {},
   "cell_type": "markdown",
   "metadata": {
    "collapsed": false
   },
   "source": [
    "#### Fetch flow based parameters  \n",
    "These contains PTDFS and Fref values for each cnec for every hour, needed for calculating the linearised flow."
   ]
  },
  {
   "cell_type": "code",
   "execution_count": null,
   "metadata": {},
   "outputs": [],
   "source": [
    "from fbmc_quality.jao_data.fetch_jao_data import fetch_jao_dataframe_timeseries\n",
    "\n",
    "df_jao = fetch_jao_dataframe_timeseries(start, end)\n",
    "if df_jao is None:\n",
    "    raise RuntimeError(\"No data\")\n",
    "\n",
    "df_jao.iloc[0]"
   ]
  },
  {
   "attachments": {},
   "cell_type": "markdown",
   "metadata": {
    "collapsed": false
   },
   "source": [
    "#### Calculate basecase (D-2) net positions from flow-based parameters\n",
    "The net position is calculated from the flow based data by summing the cross boarder flows (fref). This is done by a bult-in function in the fbmc_quality package."
   ]
  },
  {
   "cell_type": "code",
   "execution_count": null,
   "metadata": {
    "collapsed": false
   },
   "outputs": [],
   "source": [
    "from fbmc_quality.jao_data.analyse_jao_data import compute_basecase_net_pos\n",
    "\n",
    "basecase_nps = compute_basecase_net_pos(start, end)\n",
    "\n",
    "if basecase_nps is None:\n",
    "    raise RuntimeError(\"No data\")\n",
    "\n",
    "basecase_nps.head()"
   ]
  },
  {
   "attachments": {},
   "cell_type": "markdown",
   "metadata": {
    "collapsed": false
   },
   "source": [
    "#### Fetch observed net positions from ENTSO-E"
   ]
  },
  {
   "cell_type": "code",
   "execution_count": null,
   "metadata": {},
   "outputs": [],
   "source": [
    "from fbmc_quality.entsoe_data import fetch_net_position_from_crossborder_flows\n",
    "\n",
    "observed_nps = fetch_net_position_from_crossborder_flows(start, end)\n",
    "\n",
    "if observed_nps is None:\n",
    "    raise RuntimeError(\"No data\")\n",
    "\n",
    "observed_nps.head()"
   ]
  },
  {
   "attachments": {},
   "cell_type": "markdown",
   "metadata": {
    "collapsed": false
   },
   "source": [
    "#### Plot base case (D-2) and observed net position for a bidding zone"
   ]
  },
  {
   "cell_type": "code",
   "execution_count": null,
   "metadata": {
    "collapsed": false
   },
   "outputs": [],
   "source": [
    "bidding_zone = 'NO1'\n",
    "\n",
    "fig, ax = plt.subplots()\n",
    "observed_nps[bidding_zone].plot(ax = ax, color='tomato')\n",
    "basecase_nps[bidding_zone].plot(ax=ax, color='lightblue')\n",
    "plt.legend(['Basecase', 'Observed'])\n",
    "plt.ylabel('Net Postitoin [MWh/h]')\n",
    "plt.title(bidding_zone)"
   ]
  },
  {
   "attachments": {},
   "cell_type": "markdown",
   "metadata": {
    "collapsed": false
   },
   "source": [
    "# Linearized and Observed Border Flows"
   ]
  },
  {
   "cell_type": "code",
   "execution_count": null,
   "metadata": {
    "collapsed": false
   },
   "outputs": [],
   "source": [
    "# Select a border\n",
    "from_area = 'NO2'\n",
    "to_area = 'NO1'"
   ]
  },
  {
   "attachments": {},
   "cell_type": "markdown",
   "metadata": {
    "collapsed": false
   },
   "source": [
    "### Observed Flow\n",
    "The observed flow is retrieved fron ENTSO-E using the fetch_observed_entsoe_data_for_cnec from the fbmc_quality package."
   ]
  },
  {
   "cell_type": "code",
   "execution_count": null,
   "metadata": {
    "collapsed": false
   },
   "outputs": [],
   "source": [
    "from fbmc_quality.entsoe_data import fetch_observed_entsoe_data_for_cnec\n",
    "\n",
    "observed_flow = fetch_observed_entsoe_data_for_cnec(from_area=from_area, to_area=to_area, start_date=start, end_date=end).squeeze()\n",
    "\n",
    "observed_flow.plot(title='Observed flow', color='r')"
   ]
  },
  {
   "attachments": {},
   "cell_type": "markdown",
   "metadata": {
    "collapsed": false
   },
   "source": [
    "### Calculate the linearized flow\n",
    "The linearized flow is calculated by combining the flow based parameters (PTDFs and Fref) and the observed net positions.\n",
    "$ F = F_{ref0} + \\sum_i(PTDF_i NP_i)$\n",
    "Where $i$ is the bidding zones."
   ]
  },
  {
   "cell_type": "code",
   "execution_count": null,
   "metadata": {
    "collapsed": false
   },
   "outputs": [],
   "source": [
    "cnec_name = f'{from_area}->{to_area}' # Select a CNEC\n",
    "\n",
    "cnec_data = df_jao_cnec = df_jao[df_jao['cnecName']==cnec_name].droplevel(0) # Extract the cnec data from jao frame\n",
    "\n",
    "# flow = f_ref + sum(PTDF_i * NP_i)\n",
    "linearized_flow = '...'\n",
    "\n",
    "linearized_flow.plot(title='Linearised Flow')"
   ]
  },
  {
   "attachments": {},
   "cell_type": "markdown",
   "metadata": {
    "collapsed": false
   },
   "source": [
    "#### Calculate the error between the observed and linearized flow"
   ]
  },
  {
   "cell_type": "code",
   "execution_count": null,
   "metadata": {
    "collapsed": false
   },
   "outputs": [],
   "source": [
    "linearized_error = '...'"
   ]
  },
  {
   "attachments": {},
   "cell_type": "markdown",
   "metadata": {
    "collapsed": false
   },
   "source": [
    "#### Plot the linearisation error"
   ]
  },
  {
   "cell_type": "code",
   "execution_count": 1,
   "metadata": {
    "ExecuteTime": {
     "end_time": "2023-10-09T15:15:39.903797400Z",
     "start_time": "2023-10-09T15:15:39.884351200Z"
    },
    "collapsed": false
   },
   "outputs": [],
   "source": [
    "# Create visualiztions of the linearisation error"
   ]
  }
 ],
 "metadata": {
  "kernelspec": {
   "display_name": "Python 3 (ipykernel)",
   "language": "python",
   "name": "python3"
  },
  "language_info": {
   "name": "python"
  },
  "orig_nbformat": 4
 },
 "nbformat": 4,
 "nbformat_minor": 2
}

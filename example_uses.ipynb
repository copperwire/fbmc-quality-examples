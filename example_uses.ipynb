{
 "cells": [
  {
   "cell_type": "code",
   "execution_count": null,
   "metadata": {},
   "outputs": [],
   "source": [
    "from datetime import date\n",
    "from fbmc_quality.jao_data.analyse_jao_data import compute_basecase_net_pos\n",
    "from fbmc_quality.jao_data.fetch_jao_data import fetch_jao_dataframe_timeseries\n",
    "\n",
    "start = date(2023, 4, 1)\n",
    "end = date(2023, 5, 1)\n",
    "\n",
    "dataframe = fetch_jao_dataframe_timeseries(start, end)\n",
    "if dataframe is None:\n",
    "    raise RuntimeError(\"No data\")\n",
    "\n",
    "print(dataframe.head())\n",
    "\n",
    "basecase_nps = compute_basecase_net_pos(start, end)\n",
    "\n",
    "if basecase_nps is None:\n",
    "    raise RuntimeError(\"No data\")\n",
    "\n",
    "basecase_nps['NO2'].plot()"
   ]
  },
  {
   "cell_type": "code",
   "execution_count": null,
   "metadata": {},
   "outputs": [],
   "source": [
    "from fbmc_quality.jao_data import compute_basecase_net_pos\n",
    "from fbmc_quality.jao_data import fetch_jao_dataframe_timeseries\n",
    "from datetime import date\n",
    "\n",
    "start = date(2023, 4, 1)\n",
    "end = date(2023, 5, 1)\n",
    "\n",
    "observed_nps = fetch_net_position_from_crossborder_flows(start, end)\n",
    "\n",
    "if observed_nps is None:\n",
    "    raise RuntimeError(\"No data\")\n",
    "\n",
    "observed_nps['NO2'].plot()"
   ]
  },
  {
   "cell_type": "code",
   "execution_count": null,
   "metadata": {},
   "outputs": [],
   "source": [
    "from fbmc_quality.entsoe_data import fetch_net_position_from_crossborder_flows, fetch_observed_entsoe_data_for_cnec\n",
    "from fbmc_quality.enums import BiddingZonesEnum\n",
    "from datetime import date\n",
    "\n",
    "start = date(2023, 4, 1)\n",
    "end = date(2023, 5, 1)\n",
    "\n",
    "observed_nps = fetch_net_position_from_crossborder_flows(start, end)\n",
    "\n",
    "if observed_nps is None:\n",
    "    raise RuntimeError(\"No data\")\n",
    "\n",
    "observed_nps['NO2'].plot()\n",
    "\n",
    "no1_no2_observed_flow = fetch_observed_entsoe_data_for_cnec(from_area=BiddingZonesEnum.NO2, to_area=BiddingZonesEnum.NO1, start_date=start, end_date=end)\n",
    "no1_no2_observed_flow.plot()"
   ]
  },
  {
   "cell_type": "code",
   "execution_count": null,
   "metadata": {},
   "outputs": [],
   "source": [
    "from fbmc_quality.linearisation_analysis import compute_linearisation_error\n",
    "from fbmc_quality.linearisation_analysis import compute_linearisation_error, compute_linearised_flow\n",
    "from fbmc_quality.linearisation_analysis import load_data_for_corridor_cnec, load_jao_data_basecase_nps_and_observed_nps\n",
    "\n",
    "from datetime import date\n",
    "import plotly.express as px\n",
    "import plotly.io as pio\n",
    "import pandas as pd\n",
    "\n",
    "start = date(2023, 4, 1)\n",
    "end = date(2023, 5, 1)\n",
    "data = load_jao_data_basecase_nps_and_observed_nps(start, end)\n",
    "cnec_name ='NO3->SE2'\n",
    "cnec_data = load_data_for_corridor_cnec(\n",
    "    cnec_name,\n",
    "    data\n",
    ")\n",
    "if cnec_data is None:\n",
    "    raise ValueError(\"No data found\")"
   ]
  },
  {
   "cell_type": "code",
   "execution_count": null,
   "metadata": {},
   "outputs": [],
   "source": [
    "lin_err = compute_linearisation_error(cnec_data.cnecData, cnec_data.observedNPs, cnec_data.observed_flow['flow'])\n",
    "lin_err_frame = pd.DataFrame(\n",
    "    {\n",
    "        'Linearisation Error': lin_err,\n",
    "        'Observed Flow': cnec_data.observed_flow['flow'],\n",
    "        'Linearised Flow': compute_linearised_flow(cnec_data.cnecData, cnec_data.observedNPs),\n",
    "    }\n",
    ")\n",
    "\n",
    "pio.templates.default = \"ggplot2\"\n",
    "fig = px.density_contour(\n",
    "    lin_err_frame,\n",
    "    x='Observed Flow',\n",
    "    y='Linearised Flow',\n",
    "    marginal_x='box',marginal_y='box',\n",
    "    title=cnec_name[10:],\n",
    "    width=600,\n",
    "    height=600,\n",
    ")\n",
    "fig.update_layout(\n",
    "    font=dict(\n",
    "        size=16,\n",
    "    )\n",
    ")\n",
    "fig.update_traces(line={'width': 2})"
   ]
  }
 ],
 "metadata": {
  "language_info": {
   "name": "python"
  },
  "orig_nbformat": 4
 },
 "nbformat": 4,
 "nbformat_minor": 2
}
